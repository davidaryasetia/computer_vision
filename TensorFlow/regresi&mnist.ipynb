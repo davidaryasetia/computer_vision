{
 "cells": [
  {
   "cell_type": "code",
   "execution_count": 1,
   "metadata": {},
   "outputs": [],
   "source": [
    "import tensorflow as tf\n",
    "import numpy as np\n",
    "import matplotlib.pyplot as plt\n",
    "\n",
    "from tensorflow import keras\n",
    "\n",
    "\n",
    "def plot_data(x_data, y_data):\n",
    "   fig, ax = plt.subplots()\n",
    "\n",
    "   ax.plot(x_data, y_data, 'ro')\n",
    "\n",
    "   plt.pause(1)\n",
    "\n",
    "   return None\n",
    "\n",
    "\n",
    "if __name__ == \"__main__\":\n",
    "   # Define and compile the neural networks\n",
    "   model = tf.keras.Sequential(\n",
    "       [keras.layers.Dense(units=1, input_shape=[1])])\n",
    "   model.compile(optimizer=\"sgd\", loss=\"mean_squared_error\")\n",
    "\n",
    "   # Providing the data\n",
    "   xs = np.array([-1.0, 0.0, 1.0, 2.0, 3.0, 4.0])\n",
    "   ys = np.array([-3.0, -1.0, 1.0, 3.0, 5.0, 7.0])  # y = 2x - 1\n",
    "\n",
    "   # Plotting data will help us to understand faster\n",
    "   # visually about the data\n",
    "   plot_data(xs, ys)\n",
    "\n",
    "   # Train the neural network\n",
    "   model.fit(xs, ys, epochs=500)\n",
    "\n",
    "   # Predict using the model\n",
    "   print(model.predict(([10.0])))   # this result should be close to 19.\n",
    "   "
   ]
  }
 ],
 "metadata": {
  "kernelspec": {
   "display_name": "Python 3",
   "language": "python",
   "name": "python3"
  },
  "language_info": {
   "codemirror_mode": {
    "name": "ipython",
    "version": 3
   },
   "file_extension": ".py",
   "mimetype": "text/x-python",
   "name": "python",
   "nbconvert_exporter": "python",
   "pygments_lexer": "ipython3",
   "version": "3.11.8"
  }
 },
 "nbformat": 4,
 "nbformat_minor": 2
}
