{
 "cells": [
  {
   "cell_type": "code",
   "execution_count": 1,
   "metadata": {},
   "outputs": [
    {
     "name": "stdout",
     "output_type": "stream",
     "text": [
      "Ukuran Image (427, 640, 3)\n",
      "Type data uint8\n"
     ]
    },
    {
     "name": "stderr",
     "output_type": "stream",
     "text": [
      "qt.qpa.plugin: Could not find the Qt platform plugin \"wayland\" in \"/home/david/.local/lib/python3.10/site-packages/cv2/qt/plugins\"\n"
     ]
    }
   ],
   "source": [
    "# Praktikum 1 -> membaca dan menampilkan gambar \n",
    "import cv2\n",
    "img = cv2.imread(\"gambar.jpg\")\n",
    "\n",
    "print(\"Ukuran Image\",img.shape)\n",
    "print(\"Type data\",img.dtype)\n",
    "\n",
    "cv2.imshow(\"image\",img)\n",
    "\n",
    "cv2.waitKey(0)\n",
    "cv2.destroyAllWindows()"
   ]
  },
  {
   "cell_type": "code",
   "execution_count": 1,
   "metadata": {},
   "outputs": [
    {
     "name": "stderr",
     "output_type": "stream",
     "text": [
      "qt.qpa.plugin: Could not find the Qt platform plugin \"wayland\" in \"/home/david/.local/lib/python3.10/site-packages/cv2/qt/plugins\"\n"
     ]
    }
   ],
   "source": [
    "# Percobaan 3 : Grayscale dengan Iluminasi Citra\n",
    "\n",
    "import cv2 \n",
    "import numpy as np \n",
    "img = cv2.imread(\"gambar.jpg\")\n",
    "B,G,R = cv2.split(img)\n",
    "\n",
    "img_gray1 = 0.33 * R + 0.33 * G + 0.33 * B\n",
    "img_gray1 = img_gray1.astype(np.uint8)\n",
    "img_RG1 = np.minimum(R,G)\n",
    "\n",
    "img_gray2 = np.minimum(img_RG1,B)\n",
    "img_RG2 = np.maximum(R,G)\n",
    "img_gray3 = np.maximum(img_RG2,B)\n",
    "cv2.imshow(\"Iluminasi Rata Rata\",img_gray1)\n",
    "cv2.imshow(\"Ilumninasi minimum\",img_gray2)\n",
    "cv2.imshow(\"Ilumninasi maksimum\",img_gray3)\n",
    "cv2.waitKey(0)\n",
    "cv2.destroyAllWindows()"
   ]
  }
 ],
 "metadata": {
  "kernelspec": {
   "display_name": "Python 3",
   "language": "python",
   "name": "python3"
  },
  "language_info": {
   "codemirror_mode": {
    "name": "ipython",
    "version": 3
   },
   "file_extension": ".py",
   "mimetype": "text/x-python",
   "name": "python",
   "nbconvert_exporter": "python",
   "pygments_lexer": "ipython3",
   "version": "3.10.12"
  }
 },
 "nbformat": 4,
 "nbformat_minor": 2
}
