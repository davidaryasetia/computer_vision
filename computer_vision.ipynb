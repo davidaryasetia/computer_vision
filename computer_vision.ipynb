{
 "cells": [
  {
   "cell_type": "code",
   "execution_count": 1,
   "metadata": {},
   "outputs": [
    {
     "name": "stdout",
     "output_type": "stream",
     "text": [
      "Ukuran Image (427, 640, 3)\n",
      "Type data uint8\n"
     ]
    },
    {
     "name": "stderr",
     "output_type": "stream",
     "text": [
      "qt.qpa.plugin: Could not find the Qt platform plugin \"wayland\" in \"/home/david/.local/lib/python3.10/site-packages/cv2/qt/plugins\"\n"
     ]
    }
   ],
   "source": [
    "# Praktikum 1 -> membaca dan menampilkan gambar \n",
    "import cv2\n",
    "img = cv2.imread(\"gambar.jpg\")\n",
    "\n",
    "print(\"Ukuran Image\",img.shape)\n",
    "print(\"Type data\",img.dtype)\n",
    "\n",
    "cv2.imshow(\"image\",img)\n",
    "\n",
    "cv2.waitKey(0)\n",
    "cv2.destroyAllWindows()"
   ]
  },
  {
   "cell_type": "code",
   "execution_count": 1,
   "metadata": {},
   "outputs": [
    {
     "name": "stderr",
     "output_type": "stream",
     "text": [
      "qt.qpa.plugin: Could not find the Qt platform plugin \"wayland\" in \"/home/david/.local/lib/python3.10/site-packages/cv2/qt/plugins\"\n"
     ]
    }
   ],
   "source": [
    "# Percobaan 3 : Grayscale dengan Iluminasi Citra\n",
    "\n",
    "import cv2 \n",
    "import numpy as np \n",
    "img = cv2.imread(\"gambar.jpg\")\n",
    "B,G,R = cv2.split(img)\n",
    "\n",
    "img_gray1 = 0.33 * R + 0.33 * G + 0.33 * B\n",
    "img_gray1 = img_gray1.astype(np.uint8)\n",
    "img_RG1 = np.minimum(R,G)\n",
    "\n",
    "img_gray2 = np.minimum(img_RG1,B)\n",
    "img_RG2 = np.maximum(R,G)\n",
    "img_gray3 = np.maximum(img_RG2,B)\n",
    "cv2.imshow(\"Iluminasi Rata Rata\",img_gray1)\n",
    "cv2.imshow(\"Ilumninasi minimum\",img_gray2)\n",
    "cv2.imshow(\"Ilumninasi maksimum\",img_gray3)\n",
    "cv2.waitKey(0)\n",
    "cv2.destroyAllWindows()"
   ]
  },
  {
   "cell_type": "code",
   "execution_count": null,
   "metadata": {},
   "outputs": [],
   "source": [
    "import cv2 \n",
    "import matplotlib.pyplot as plt\n",
    "import numpy as np \n",
    "\n",
    "img = cv2.imread(\"gambar.jpg\", 0)\n",
    "hist, bins = np.histogram(img.flatten(), 256, [0, 256])\n",
    "cdf = hist.cumsum()\n",
    "cdf_normalized = cdf * float(hist.max()) / cdf.max()\n",
    "img1 = cv2.equalizeHist(img)\n",
    "hist2, bins = np.histogram(img1.flatten(), 256, [0, 256])\n",
    "cdf2 = hist2.cumsum()\n",
    "cdf_normalized2 = cdf * float(hist2.max()) / cdf2.max()\n",
    "\n",
    "plt.subplot(2, 3, 1)\n",
    "plt.imshow(img, cmap='gray', vmin=0, vmax=255)\n",
    "plt.title('Citra Gray')\n",
    "plt.axis('off')\n",
    "\n",
    "plt.subplot(2,3,4)\n",
    "plt.imshow(img1, cmap='gray', vmin=0, vmax=255)\n",
    "plt.title('Citra Equalisasi')\n",
    "plt.axis('off')\n",
    "\n",
    "plt.subplot(2, 3, 2)\n",
    "plt.hist(img.flatten(), 256, [0, 256], color='r')\n",
    "plt.title('Histogram Gray')\n",
    "\n",
    "plt.subplot(2, 3, 5)\n",
    "plt.plot(cdf_normalized, color=\"b\")\n",
    "plt.title('CDF')\n",
    "\n",
    "plt.subplot(2, 3, 3)\n",
    "plt.plot(cdf_normalized, color=\"b\")\n",
    "plt.title('CDF')\n",
    "\n",
    "plt.subplot(2, 3, 6)\n",
    "plt.plot(cdf_normalized2, color=\"b\")\n",
    "plt.title('CDF')\n",
    "\n",
    "plt.show()"
   ]
  }
 ],
 "metadata": {
  "kernelspec": {
   "display_name": "Python 3",
   "language": "python",
   "name": "python3"
  },
  "language_info": {
   "codemirror_mode": {
    "name": "ipython",
    "version": 3
   },
   "file_extension": ".py",
   "mimetype": "text/x-python",
   "name": "python",
   "nbconvert_exporter": "python",
   "pygments_lexer": "ipython3",
   "version": "3.11.8"
  }
 },
 "nbformat": 4,
 "nbformat_minor": 2
}
